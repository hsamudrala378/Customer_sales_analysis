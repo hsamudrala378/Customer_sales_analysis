{
 "cells": [
  {
   "cell_type": "code",
   "execution_count": 3,
   "id": "946bc5bd-294c-4762-9e3f-a48f0af8703e",
   "metadata": {},
   "outputs": [],
   "source": [
    "import pandas as pd\n"
   ]
  },
  {
   "cell_type": "code",
   "execution_count": 6,
   "id": "e94502b4-c7c0-40d3-bd97-4537bbb015ed",
   "metadata": {},
   "outputs": [],
   "source": [
    "df = pd.read_excel(\"C:/Users/Harshitha/Documents/Sample - Superstore.xls\")\n"
   ]
  },
  {
   "cell_type": "code",
   "execution_count": 7,
   "id": "25bdc6ed-2550-444e-afd6-51c1ea69669c",
   "metadata": {},
   "outputs": [
    {
     "name": "stdout",
     "output_type": "stream",
     "text": [
      "   Row ID        Order ID Order Date  Ship Date       Ship Mode Customer ID  \\\n",
      "0       1  CA-2020-152156 2020-11-08 2020-11-11    Second Class    CG-12520   \n",
      "1       2  CA-2020-152156 2020-11-08 2020-11-11    Second Class    CG-12520   \n",
      "2       3  CA-2020-138688 2020-06-12 2020-06-16    Second Class    DV-13045   \n",
      "3       4  US-2019-108966 2019-10-11 2019-10-18  Standard Class    SO-20335   \n",
      "4       5  US-2019-108966 2019-10-11 2019-10-18  Standard Class    SO-20335   \n",
      "\n",
      "     Customer Name    Segment Country/Region             City  ...  \\\n",
      "0      Claire Gute   Consumer  United States        Henderson  ...   \n",
      "1      Claire Gute   Consumer  United States        Henderson  ...   \n",
      "2  Darrin Van Huff  Corporate  United States      Los Angeles  ...   \n",
      "3   Sean O'Donnell   Consumer  United States  Fort Lauderdale  ...   \n",
      "4   Sean O'Donnell   Consumer  United States  Fort Lauderdale  ...   \n",
      "\n",
      "  Postal Code  Region       Product ID         Category Sub-Category  \\\n",
      "0     42420.0   South  FUR-BO-10001798        Furniture    Bookcases   \n",
      "1     42420.0   South  FUR-CH-10000454        Furniture       Chairs   \n",
      "2     90036.0    West  OFF-LA-10000240  Office Supplies       Labels   \n",
      "3     33311.0   South  FUR-TA-10000577        Furniture       Tables   \n",
      "4     33311.0   South  OFF-ST-10000760  Office Supplies      Storage   \n",
      "\n",
      "                                        Product Name     Sales  Quantity  \\\n",
      "0                  Bush Somerset Collection Bookcase  261.9600         2   \n",
      "1  Hon Deluxe Fabric Upholstered Stacking Chairs,...  731.9400         3   \n",
      "2  Self-Adhesive Address Labels for Typewriters b...   14.6200         2   \n",
      "3      Bretford CR4500 Series Slim Rectangular Table  957.5775         5   \n",
      "4                     Eldon Fold 'N Roll Cart System   22.3680         2   \n",
      "\n",
      "   Discount    Profit  \n",
      "0      0.00   41.9136  \n",
      "1      0.00  219.5820  \n",
      "2      0.00    6.8714  \n",
      "3      0.45 -383.0310  \n",
      "4      0.20    2.5164  \n",
      "\n",
      "[5 rows x 21 columns]\n"
     ]
    }
   ],
   "source": [
    "print(df.head())\n"
   ]
  },
  {
   "cell_type": "code",
   "execution_count": 8,
   "id": "80583b8b-4a25-4102-a46a-2be90db34b32",
   "metadata": {},
   "outputs": [],
   "source": [
    "df.drop_duplicates(inplace=True)\n"
   ]
  },
  {
   "cell_type": "code",
   "execution_count": 9,
   "id": "96c016a9-45a4-4baf-a50b-dc8e16d2cf1f",
   "metadata": {},
   "outputs": [],
   "source": [
    "df.dropna(inplace=True)\n"
   ]
  },
  {
   "cell_type": "code",
   "execution_count": 10,
   "id": "04c44423-57e8-4cb8-b3f3-d0b4ac235c86",
   "metadata": {},
   "outputs": [],
   "source": [
    "df[\"TotalProfit\"] = df[\"Sales\"] - df[\"Discount\"] * df[\"Sales\"]"
   ]
  },
  {
   "cell_type": "code",
   "execution_count": 11,
   "id": "668074bc-5d13-4b32-aeaa-79dbe0011981",
   "metadata": {},
   "outputs": [],
   "source": [
    "df[\"Order Date\"] = pd.to_datetime(df[\"Order Date\"])\n"
   ]
  },
  {
   "cell_type": "code",
   "execution_count": 12,
   "id": "9dffe705-cb65-4b95-b699-9a587b8f8c33",
   "metadata": {},
   "outputs": [],
   "source": [
    "df[\"Month\"] = df[\"Order Date\"].dt.month\n",
    "df[\"Year\"] = df[\"Order Date\"].dt.year"
   ]
  },
  {
   "cell_type": "code",
   "execution_count": 13,
   "id": "f7bf9846-9e20-4eb1-9cc0-9df2fc16eee7",
   "metadata": {},
   "outputs": [],
   "source": [
    "df.to_csv(\"cleaned_superstore.csv\", index=False)"
   ]
  },
  {
   "cell_type": "code",
   "execution_count": null,
   "id": "e6ecf345-752b-4679-ab47-32abdaa70ab1",
   "metadata": {},
   "outputs": [],
   "source": [
    "#SQlite"
   ]
  },
  {
   "cell_type": "code",
   "execution_count": 14,
   "id": "4a0215c0-dc31-488d-8192-28abe40549f0",
   "metadata": {},
   "outputs": [],
   "source": [
    "import sqlite3"
   ]
  },
  {
   "cell_type": "code",
   "execution_count": 15,
   "id": "0dedef7a-1c17-4df7-bd57-b247b27c5573",
   "metadata": {},
   "outputs": [],
   "source": [
    "conn = sqlite3.connect('superstore.db')\n"
   ]
  },
  {
   "cell_type": "code",
   "execution_count": 16,
   "id": "f90bf35d-f98b-44f5-a81f-c6e81a0952c4",
   "metadata": {},
   "outputs": [
    {
     "data": {
      "text/plain": [
       "9983"
      ]
     },
     "execution_count": 16,
     "metadata": {},
     "output_type": "execute_result"
    }
   ],
   "source": [
    "df.to_sql('sales_data', conn, if_exists='replace', index=False)\n"
   ]
  },
  {
   "cell_type": "code",
   "execution_count": 17,
   "id": "655cce31-a4b5-49ce-a2d9-c121e9cbc37e",
   "metadata": {},
   "outputs": [],
   "source": [
    "query = '''\n",
    "SELECT Category, SUM(Sales) as TotalSales, SUM(Profit) as TotalProfit\n",
    "FROM sales_data\n",
    "GROUP BY Category\n",
    "ORDER BY TotalProfit DESC\n",
    "'''"
   ]
  },
  {
   "cell_type": "code",
   "execution_count": 18,
   "id": "b6744d7b-c13a-46c4-8b7c-56707a914a01",
   "metadata": {},
   "outputs": [],
   "source": [
    "result = pd.read_sql(query, conn)"
   ]
  },
  {
   "cell_type": "code",
   "execution_count": 19,
   "id": "12400926-ce99-4cd4-889d-1bfda3a89d6e",
   "metadata": {},
   "outputs": [
    {
     "name": "stdout",
     "output_type": "stream",
     "text": [
      "          Category   TotalSales  TotalProfit\n",
      "0       Technology  834554.2730  145007.6618\n",
      "1  Office Supplies  716837.5220  121885.0358\n",
      "2        Furniture  736879.6953   17259.3458\n"
     ]
    }
   ],
   "source": [
    "print(result)"
   ]
  },
  {
   "cell_type": "code",
   "execution_count": null,
   "id": "d5c6d096-7f14-4d9d-bd7e-b767b0e49851",
   "metadata": {},
   "outputs": [],
   "source": []
  }
 ],
 "metadata": {
  "kernelspec": {
   "display_name": "Python 3 (ipykernel)",
   "language": "python",
   "name": "python3"
  },
  "language_info": {
   "codemirror_mode": {
    "name": "ipython",
    "version": 3
   },
   "file_extension": ".py",
   "mimetype": "text/x-python",
   "name": "python",
   "nbconvert_exporter": "python",
   "pygments_lexer": "ipython3",
   "version": "3.13.1"
  }
 },
 "nbformat": 4,
 "nbformat_minor": 5
}
